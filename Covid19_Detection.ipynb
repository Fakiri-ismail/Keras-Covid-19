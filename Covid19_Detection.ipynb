{
 "cells": [
  {
   "cell_type": "code",
   "execution_count": 1,
   "id": "maritime-oasis",
   "metadata": {},
   "outputs": [],
   "source": [
    "# import\n",
    "from tensorflow.keras.preprocessing.image import ImageDataGenerator\n",
    "from tensorflow.keras.applications import VGG16\n",
    "from tensorflow.keras.layers import AveragePooling2D\n",
    "from tensorflow.keras.layers import Dropout\n",
    "from tensorflow.keras.layers import Flatten\n",
    "from tensorflow.keras.layers import Dense\n",
    "from tensorflow.keras.layers import Input\n",
    "from tensorflow.keras.models import Model\n",
    "from tensorflow.keras.optimizers import Adam\n",
    "from tensorflow.keras.utils import to_categorical\n",
    "from sklearn.preprocessing import LabelBinarizer\n",
    "from sklearn.model_selection import train_test_split\n",
    "from sklearn.metrics import classification_report\n",
    "from sklearn.metrics import confusion_matrix\n",
    "from imutils import paths\n",
    "import matplotlib.pyplot as plt\n",
    "import numpy as np\n",
    "import cv2\n",
    "import os"
   ]
  },
  {
   "cell_type": "code",
   "execution_count": 2,
   "id": "computational-diagram",
   "metadata": {},
   "outputs": [],
   "source": [
    "# intialisation des paramètres (learning rate, nombre des epochs et batch size)\n",
    "INIT_LR = 1e-3\n",
    "EPOCHS = 25\n",
    "BS = 8\n",
    "# liste des images\n",
    "imagePaths = list(paths.list_images(\"dataset\"))"
   ]
  },
  {
   "cell_type": "code",
   "execution_count": 3,
   "id": "sustainable-outside",
   "metadata": {},
   "outputs": [],
   "source": [
    "data = []\n",
    "labels = []\n",
    "\n",
    "for imagePath in imagePaths:\n",
    "    # extraire la classe d'image\n",
    "    label = imagePath.split(os.path.sep)[-2]\n",
    "    \n",
    "    # chargez et redimensionnez l'image 224x244\n",
    "    image = cv2.imread(imagePath)\n",
    "    image = cv2.cvtColor(image, cv2.COLOR_BGR2RGB)\n",
    "    image = cv2.resize(image, (224, 224))\n",
    "\n",
    "    # mis à jour des listes\n",
    "    data.append(image)\n",
    "    labels.append(label)"
   ]
  },
  {
   "cell_type": "code",
   "execution_count": 4,
   "id": "paperback-atlas",
   "metadata": {},
   "outputs": [],
   "source": [
    "# convertir data et labels en NumPy array\n",
    "# intensities to the range [0, 255]\n",
    "data = np.array(data) / 255.0\n",
    "labels = np.array(labels)"
   ]
  },
  {
   "cell_type": "code",
   "execution_count": 5,
   "id": "growing-renewal",
   "metadata": {},
   "outputs": [],
   "source": [
    "# l'encodage des labels\n",
    "lb = LabelBinarizer()\n",
    "labels = lb.fit_transform(labels)\n",
    "labels = to_categorical(labels)"
   ]
  },
  {
   "cell_type": "code",
   "execution_count": 6,
   "id": "compound-glance",
   "metadata": {},
   "outputs": [],
   "source": [
    "# partitionner les données (80% pour l'entrainemet et 20% pour le test)\n",
    "(trainX, testX, trainY, testY) = train_test_split(data, labels, test_size=0.20, stratify=labels, random_state=42)"
   ]
  },
  {
   "cell_type": "code",
   "execution_count": 7,
   "id": "handled-blond",
   "metadata": {},
   "outputs": [],
   "source": [
    "# augmentation des données d'entrainemet\n",
    "trainAug = ImageDataGenerator(rotation_range=15, fill_mode=\"nearest\")"
   ]
  },
  {
   "cell_type": "code",
   "execution_count": 8,
   "id": "nasty-victorian",
   "metadata": {},
   "outputs": [],
   "source": [
    "# charger le réseau VGG16 sans la derniere chouche\n",
    "baseModel = VGG16(weights=\"imagenet\", include_top=False, input_tensor=Input(shape=(224, 224, 3)))"
   ]
  },
  {
   "cell_type": "code",
   "execution_count": 9,
   "id": "assisted-carpet",
   "metadata": {},
   "outputs": [],
   "source": [
    "# construire la derniere chouche du model\n",
    "headModel = baseModel.output\n",
    "headModel = AveragePooling2D(pool_size=(4, 4))(headModel)\n",
    "headModel = Flatten(name=\"flatten\")(headModel)\n",
    "headModel = Dense(64, activation=\"relu\")(headModel)\n",
    "headModel = Dropout(0.5)(headModel)\n",
    "headModel = Dense(2, activation=\"softmax\")(headModel)"
   ]
  },
  {
   "cell_type": "code",
   "execution_count": 10,
   "id": "spoken-discharge",
   "metadata": {},
   "outputs": [],
   "source": [
    "# placez la couche sur le modèle de base (cela deviendra le modèle réel que nous allons former)\n",
    "model = Model(inputs=baseModel.input, outputs=headModel)"
   ]
  },
  {
   "cell_type": "code",
   "execution_count": 11,
   "id": "false-wrist",
   "metadata": {},
   "outputs": [],
   "source": [
    "# freeze les couche du modèle de base pour n'être pas mis à jour lors du premier processus d'entrainemet\n",
    "for layer in baseModel.layers:\n",
    "    layer.trainable = False"
   ]
  },
  {
   "cell_type": "code",
   "execution_count": 12,
   "id": "painful-device",
   "metadata": {},
   "outputs": [],
   "source": [
    "# compiler notre modèle\n",
    "opt = Adam(lr=INIT_LR, decay=INIT_LR / EPOCHS)\n",
    "model.compile(loss=\"binary_crossentropy\", optimizer=opt, metrics=[\"accuracy\"])"
   ]
  },
  {
   "cell_type": "code",
   "execution_count": 13,
   "id": "scheduled-compound",
   "metadata": {},
   "outputs": [
    {
     "name": "stdout",
     "output_type": "stream",
     "text": [
      "WARNING:tensorflow:From <ipython-input-13-64e344a1359a>:7: Model.fit_generator (from tensorflow.python.keras.engine.training) is deprecated and will be removed in a future version.\n",
      "Instructions for updating:\n",
      "Please use Model.fit, which supports generators.\n",
      "Epoch 1/25\n",
      "5/5 [==============================] - 281s 56s/step - loss: 0.7468 - accuracy: 0.6000 - val_loss: 0.7029 - val_accuracy: 0.5000\n",
      "Epoch 2/25\n",
      "5/5 [==============================] - 310s 62s/step - loss: 0.7711 - accuracy: 0.4500 - val_loss: 0.6497 - val_accuracy: 0.8000\n",
      "Epoch 3/25\n",
      "5/5 [==============================] - 308s 62s/step - loss: 0.6505 - accuracy: 0.6000 - val_loss: 0.6374 - val_accuracy: 0.7000\n",
      "Epoch 4/25\n",
      "5/5 [==============================] - 325s 65s/step - loss: 0.6558 - accuracy: 0.6250 - val_loss: 0.6151 - val_accuracy: 0.8000\n",
      "Epoch 5/25\n",
      "5/5 [==============================] - 312s 62s/step - loss: 0.6345 - accuracy: 0.6000 - val_loss: 0.6157 - val_accuracy: 0.6000\n",
      "Epoch 6/25\n",
      "5/5 [==============================] - 320s 64s/step - loss: 0.6034 - accuracy: 0.7000 - val_loss: 0.6032 - val_accuracy: 0.7000\n",
      "Epoch 7/25\n",
      "5/5 [==============================] - 333s 67s/step - loss: 0.6403 - accuracy: 0.6250 - val_loss: 0.5836 - val_accuracy: 0.7000\n",
      "Epoch 8/25\n",
      "5/5 [==============================] - 310s 62s/step - loss: 0.5949 - accuracy: 0.7500 - val_loss: 0.5598 - val_accuracy: 0.8000\n",
      "Epoch 9/25\n",
      "5/5 [==============================] - 328s 66s/step - loss: 0.5379 - accuracy: 0.8000 - val_loss: 0.5399 - val_accuracy: 0.8000\n",
      "Epoch 10/25\n",
      "5/5 [==============================] - 350s 70s/step - loss: 0.4503 - accuracy: 0.9000 - val_loss: 0.5276 - val_accuracy: 0.8000\n",
      "Epoch 11/25\n",
      "5/5 [==============================] - 322s 64s/step - loss: 0.5181 - accuracy: 0.7500 - val_loss: 0.5154 - val_accuracy: 0.7000\n",
      "Epoch 12/25\n",
      "5/5 [==============================] - 345s 69s/step - loss: 0.4848 - accuracy: 0.8500 - val_loss: 0.5021 - val_accuracy: 0.7000\n",
      "Epoch 13/25\n",
      "5/5 [==============================] - 315s 63s/step - loss: 0.4763 - accuracy: 0.8250 - val_loss: 0.4911 - val_accuracy: 0.7000\n",
      "Epoch 14/25\n",
      "5/5 [==============================] - 360s 72s/step - loss: 0.4497 - accuracy: 0.8750 - val_loss: 0.4747 - val_accuracy: 0.8000\n",
      "Epoch 15/25\n",
      "5/5 [==============================] - 362s 72s/step - loss: 0.4555 - accuracy: 0.8000 - val_loss: 0.4544 - val_accuracy: 0.8000\n",
      "Epoch 16/25\n",
      "5/5 [==============================] - 337s 67s/step - loss: 0.3808 - accuracy: 0.8750 - val_loss: 0.4423 - val_accuracy: 0.8000\n",
      "Epoch 17/25\n",
      "5/5 [==============================] - 328s 66s/step - loss: 0.4160 - accuracy: 0.8500 - val_loss: 0.4302 - val_accuracy: 0.8000\n",
      "Epoch 18/25\n",
      "5/5 [==============================] - 315s 63s/step - loss: 0.3907 - accuracy: 0.8500 - val_loss: 0.4123 - val_accuracy: 0.8000\n",
      "Epoch 19/25\n",
      "5/5 [==============================] - 314s 63s/step - loss: 0.3509 - accuracy: 0.8750 - val_loss: 0.4004 - val_accuracy: 1.0000\n",
      "Epoch 20/25\n",
      "5/5 [==============================] - 311s 62s/step - loss: 0.3846 - accuracy: 0.9000 - val_loss: 0.3948 - val_accuracy: 1.0000\n",
      "Epoch 21/25\n",
      "5/5 [==============================] - 311s 62s/step - loss: 0.3691 - accuracy: 0.9500 - val_loss: 0.3769 - val_accuracy: 0.9000\n",
      "Epoch 22/25\n",
      "5/5 [==============================] - 312s 62s/step - loss: 0.3471 - accuracy: 0.8750 - val_loss: 0.3561 - val_accuracy: 0.8000\n",
      "Epoch 23/25\n",
      "5/5 [==============================] - 310s 62s/step - loss: 0.3325 - accuracy: 0.9500 - val_loss: 0.3375 - val_accuracy: 0.8000\n",
      "Epoch 24/25\n",
      "5/5 [==============================] - 312s 62s/step - loss: 0.3532 - accuracy: 0.8750 - val_loss: 0.3250 - val_accuracy: 0.8000\n",
      "Epoch 25/25\n",
      "5/5 [==============================] - 311s 62s/step - loss: 0.3131 - accuracy: 0.9500 - val_loss: 0.3099 - val_accuracy: 1.0000\n"
     ]
    }
   ],
   "source": [
    "# entrener le head de notre réseau\n",
    "H = model.fit_generator(\n",
    "    trainAug.flow(trainX, trainY, batch_size=BS),\n",
    "    steps_per_epoch=len(trainX) // BS,\n",
    "    validation_data=(testX, testY),\n",
    "    validation_steps=len(testX) // BS,\n",
    "    epochs=EPOCHS)"
   ]
  },
  {
   "cell_type": "code",
   "execution_count": 15,
   "id": "foreign-colleague",
   "metadata": {},
   "outputs": [
    {
     "name": "stdout",
     "output_type": "stream",
     "text": [
      "[INFO] evaluation du réseau...\n"
     ]
    }
   ],
   "source": [
    "# make predictions on the testing set\n",
    "print(\"[INFO] evaluation du réseau...\")\n",
    "predIdxs = model.predict(testX, batch_size=BS)"
   ]
  },
  {
   "cell_type": "code",
   "execution_count": 16,
   "id": "banner-punishment",
   "metadata": {},
   "outputs": [
    {
     "name": "stdout",
     "output_type": "stream",
     "text": [
      "              precision    recall  f1-score   support\n",
      "\n",
      "       covid       1.00      1.00      1.00         5\n",
      "      normal       1.00      1.00      1.00         5\n",
      "\n",
      "    accuracy                           1.00        10\n",
      "   macro avg       1.00      1.00      1.00        10\n",
      "weighted avg       1.00      1.00      1.00        10\n",
      "\n"
     ]
    }
   ],
   "source": [
    "# rapport de classification\n",
    "predIdxs = np.argmax(predIdxs, axis=1)\n",
    "print(classification_report(testY.argmax(axis=1), predIdxs, target_names=lb.classes_))"
   ]
  },
  {
   "cell_type": "code",
   "execution_count": 25,
   "id": "published-albania",
   "metadata": {},
   "outputs": [
    {
     "name": "stdout",
     "output_type": "stream",
     "text": [
      "[[5 0]\n",
      " [0 5]]\n",
      "accuracy : 100.00%\n"
     ]
    }
   ],
   "source": [
    "# calcul de la matrice de confusion et l'accuracy\n",
    "cm = confusion_matrix(testY.argmax(axis=1), predIdxs)\n",
    "total = sum(sum(cm))\n",
    "acc = ((cm[0, 0] + cm[1, 1]) / total) * 100\n",
    "\n",
    "# affichage de la matrice de confusion et l'accuracy\n",
    "print(cm)\n",
    "print(\"accuracy : {:.2f}%\".format(acc))"
   ]
  },
  {
   "cell_type": "code",
   "execution_count": 22,
   "id": "imposed-gross",
   "metadata": {},
   "outputs": [
    {
     "data": {
      "image/png": "[encoded data removed]",
      "text/plain": [
       "<Figure size 432x288 with 1 Axes>"
      ]
     },
     "metadata": {},
     "output_type": "display_data"
    }
   ],
   "source": [
    "# plot the training loss and accuracy\n",
    "N = EPOCHS\n",
    "plt.style.use(\"ggplot\")\n",
    "plt.figure()\n",
    "\n",
    "plt.plot(np.arange(0, N), H.history[\"loss\"], label=\"train_loss\")\n",
    "plt.plot(np.arange(0, N), H.history[\"val_loss\"], label=\"val_loss\")\n",
    "plt.plot(np.arange(0, N), H.history[\"accuracy\"], label=\"train_acc\")\n",
    "plt.plot(np.arange(0, N), H.history[\"val_accuracy\"], label=\"val_acc\")\n",
    "\n",
    "plt.title(\"Training Loss and Accuracy on COVID-19 Dataset\")\n",
    "plt.xlabel(\"Epoch\")\n",
    "plt.ylabel(\"Loss/Accuracy\")\n",
    "plt.legend(loc=\"lower left\")\n",
    "\n",
    "# enregistrer la figure\n",
    "plt.savefig(\"Trianing_plot\")\n",
    "\n",
    "# afficher la figure\n",
    "plt.show()"
   ]
  },
  {
   "cell_type": "code",
   "execution_count": 21,
   "id": "fabulous-anaheim",
   "metadata": {},
   "outputs": [
    {
     "name": "stdout",
     "output_type": "stream",
     "text": [
      "[INFO] model saved\n"
     ]
    }
   ],
   "source": [
    "# enregistrer le modèle\n",
    "model.save(\"covid_model.h5\")\n",
    "print(\"[INFO] model saved\")"
   ]
  }
 ],
 "metadata": {
  "kernelspec": {
   "display_name": "Python 3",
   "language": "python",
   "name": "python3"
  },
  "language_info": {
   "codemirror_mode": {
    "name": "ipython",
    "version": 3
   },
   "file_extension": ".py",
   "mimetype": "text/x-python",
   "name": "python",
   "nbconvert_exporter": "python",
   "pygments_lexer": "ipython3",
   "version": "3.7.4"
  }
 },
 "nbformat": 4,
 "nbformat_minor": 5
}
